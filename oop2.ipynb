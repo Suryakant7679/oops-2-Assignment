{
 "cells": [
  {
   "cell_type": "markdown",
   "id": "6fa20e6c-610e-4d84-b046-6aa0bf088611",
   "metadata": {},
   "source": [
    "Q1. What is Abstraction in OOps? Explain with an example."
   ]
  },
  {
   "cell_type": "markdown",
   "id": "9d09f163-5c09-4e76-b62a-7553368126ee",
   "metadata": {},
   "source": [
    "Ans:- Abstraction is used to hide the internal functionality of the function from the users. The users only interact with the basic implementation of the function, but inner working is hidden. User is familiar with that \"what function does\" but they don't know \"how it does.\""
   ]
  },
  {
   "cell_type": "markdown",
   "id": "5ba679d5-e9c5-4902-98e4-2dc365bec046",
   "metadata": {},
   "source": [
    "In simple words, we all use the smartphone and very much familiar with its functions such as camera, voice-recorder, call-dialing, etc., but we don't know how these operations are happening in the background. Let's take another example - When we use the TV remote to increase the volume. We don't know how pressing a key increases the volume of the TV. We only know to press the \"+\" button to increase the volume.\n",
    "\n",
    "That is exactly the abstraction that works in the object-oriented concept."
   ]
  },
  {
   "cell_type": "markdown",
   "id": "d5a91adc-167b-4459-9eec-bfd82a5151c2",
   "metadata": {},
   "source": [
    "Q2. Differentiate between Abstraction and Encapsulation. Explain with an example."
   ]
  },
  {
   "cell_type": "markdown",
   "id": "fa9b1515-0916-4f88-9937-e3c8ee08f73c",
   "metadata": {},
   "source": [
    "Ans:-Abstraction is the method of hiding the unwanted information. Whereas encapsulation is a method to hide the data in a single entity or unit along with a method to protect information from outside. We can implement abstraction using abstract class and interfaces."
   ]
  },
  {
   "cell_type": "markdown",
   "id": "dad50c69-7f6b-4e7e-a7cb-c81f1f550fa2",
   "metadata": {},
   "source": [
    "Encapsulation is defined as the wrapping up of data under a single unit. It is the mechanism that binds together code and the data it manipulates. Another way to think about encapsulation is, that it is a protective shield that prevents the data from being accessed by the code outside this shield. Technically in encapsulation, the variables or data of a class is hidden from any other class and can be accessed only through any member function of its own class in which they are declared. As in encapsulation, the data in a class is hidden from other classes, so it is also known as data-hiding. Encapsulation can be achieved by Declaring all the variables in the class as private and writing public methods in the class to set and get the values of variables. \n",
    "\n"
   ]
  },
  {
   "cell_type": "markdown",
   "id": "66074434-5dcb-4a8c-94ae-84d9cc282f5f",
   "metadata": {},
   "source": [
    "Whereas Data Abstraction is the property by virtue of which only the essential details are displayed to the user. The trivial or the non-essential units are not displayed to the user. Ex: A car is viewed as a car rather than its individual components. "
   ]
  },
  {
   "cell_type": "markdown",
   "id": "f2f1c792-4763-41a4-8325-f68c67bb0f7a",
   "metadata": {},
   "source": [
    "Q3. What is abc module in python? Why is it used?"
   ]
  },
  {
   "cell_type": "markdown",
   "id": "9dfc74ae-7ec4-4ab5-b391-bcaaa78f79aa",
   "metadata": {},
   "source": [
    "Ans:- The 'abc' module in the Python library provides the infrastructure for defining custom abstract base classes. Abstract class cannot be instantiated in python. An Abstract method can be call by its subclasses."
   ]
  },
  {
   "cell_type": "markdown",
   "id": "6b37913e-6f9b-458d-916e-acf21165863c",
   "metadata": {},
   "source": [
    "Q4. How can we achieve data abstraction?"
   ]
  },
  {
   "cell_type": "markdown",
   "id": "421b1454-6796-429c-acbf-cb8f90799f0b",
   "metadata": {},
   "source": [
    "class product(ABC): \n",
    "\n",
    "// Abstract Class\n",
    "\n",
    "// Normal Method\n",
    "\n",
    "def item_list(self, rate):\n",
    "\n",
    "// Method Definition\n",
    "\n",
    "print(\"amount submitted : \",rate)\n",
    "\n",
    "@abstractmethod\n",
    "\n",
    "def product(self,rate):                       // Abstract Method\n",
    "\n",
    "// Method Definition\n",
    "\n",
    "Pass"
   ]
  },
  {
   "cell_type": "markdown",
   "id": "dd7e043d-ca8d-4235-bcb7-94f69f5c5040",
   "metadata": {},
   "source": [
    "Q5. Can we create an instance of an abstract class? Explain your answer."
   ]
  },
  {
   "cell_type": "markdown",
   "id": "383df326-b6e8-4b83-9be5-f9ab9c6a03b9",
   "metadata": {},
   "source": [
    "Abstract classes cannot be instantiated, but they can be subclassed. When an abstract class is subclassed, the subclass usually provides implementations for all of the abstract methods in its parent class. However, if it does not, then the subclass must also be declared abstract"
   ]
  },
  {
   "cell_type": "markdown",
   "id": "50fc7efe-a24e-474f-8aad-fdb1300da961",
   "metadata": {},
   "source": [
    "from abc import (\n",
    "\n",
    "ABC,\n",
    "\n",
    "abstractmethod,\n",
    "\n",
    ")\n",
    "\n",
    "class BasicPokemon(ABC):\n",
    "\n",
    "def __init__(self, name):\n",
    "\n",
    "self.name = name\n",
    "\n",
    "self._level = 1\n",
    "\n",
    "@abstractmethod\n",
    "\n",
    "def main_attack(self):\n",
    "\n",
    "..."
   ]
  },
  {
   "cell_type": "code",
   "execution_count": null,
   "id": "8722fbfb-89e5-4148-98f9-ef61a1ead36e",
   "metadata": {},
   "outputs": [],
   "source": []
  }
 ],
 "metadata": {
  "kernelspec": {
   "display_name": "Python 3 (ipykernel)",
   "language": "python",
   "name": "python3"
  },
  "language_info": {
   "codemirror_mode": {
    "name": "ipython",
    "version": 3
   },
   "file_extension": ".py",
   "mimetype": "text/x-python",
   "name": "python",
   "nbconvert_exporter": "python",
   "pygments_lexer": "ipython3",
   "version": "3.10.8"
  }
 },
 "nbformat": 4,
 "nbformat_minor": 5
}
